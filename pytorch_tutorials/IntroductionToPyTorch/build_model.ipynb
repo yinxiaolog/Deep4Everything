{
 "cells": [
  {
   "cell_type": "code",
   "execution_count": 1,
   "metadata": {},
   "outputs": [],
   "source": [
    "import os\n",
    "import torch\n",
    "from torch import nn\n",
    "from torch.utils.data import DataLoader\n",
    "from torchvision import datasets, transforms"
   ]
  },
  {
   "cell_type": "code",
   "execution_count": 2,
   "metadata": {},
   "outputs": [
    {
     "name": "stdout",
     "output_type": "stream",
     "text": [
      "Using cuda device\n"
     ]
    }
   ],
   "source": [
    "device = (\n",
    "    \"cuda\"\n",
    "    if torch.cuda.is_available()\n",
    "    else \"mps\"\n",
    "    if torch.backends.mps.is_available()\n",
    "    else \"cpu\"\n",
    ")\n",
    "print(f\"Using {device} device\")"
   ]
  },
  {
   "cell_type": "code",
   "execution_count": 3,
   "metadata": {},
   "outputs": [],
   "source": [
    "class NeuralNetwork(nn.Module):\n",
    "    def __init__(self):\n",
    "        super().__init__()\n",
    "        self.flatten = nn.Flatten()\n",
    "        self.linear_relu_stack = nn.Sequential(\n",
    "            nn.Linear(28*28, 512),\n",
    "            nn.ReLU(),\n",
    "            nn.Linear(512, 512),\n",
    "            nn.ReLU(),\n",
    "            nn.Linear(512, 10),\n",
    "        )\n",
    "\n",
    "    def forward(self, x):\n",
    "        x = self.flatten(x)\n",
    "        logits = self.linear_relu_stack(x)\n",
    "        return logits"
   ]
  },
  {
   "cell_type": "code",
   "execution_count": 4,
   "metadata": {},
   "outputs": [
    {
     "name": "stdout",
     "output_type": "stream",
     "text": [
      "NeuralNetwork(\n",
      "  (flatten): Flatten(start_dim=1, end_dim=-1)\n",
      "  (linear_relu_stack): Sequential(\n",
      "    (0): Linear(in_features=784, out_features=512, bias=True)\n",
      "    (1): ReLU()\n",
      "    (2): Linear(in_features=512, out_features=512, bias=True)\n",
      "    (3): ReLU()\n",
      "    (4): Linear(in_features=512, out_features=10, bias=True)\n",
      "  )\n",
      ")\n"
     ]
    }
   ],
   "source": [
    "model = NeuralNetwork().to(device)\n",
    "print(model)"
   ]
  },
  {
   "cell_type": "code",
   "execution_count": 9,
   "metadata": {},
   "outputs": [
    {
     "name": "stdout",
     "output_type": "stream",
     "text": [
      "tensor([[0.0984, 0.1052, 0.0904, 0.0982, 0.0976, 0.1054, 0.0996, 0.0948, 0.1078,\n",
      "         0.1024]], device='cuda:0', grad_fn=<SoftmaxBackward0>)\n",
      "Predicted class: tensor([8], device='cuda:0')\n"
     ]
    }
   ],
   "source": [
    "X = torch.rand(1, 28, 28, device=device)\n",
    "logits = model(X)\n",
    "pred_probab = nn.Softmax(dim=1)(logits)\n",
    "print(pred_probab)\n",
    "y_pred = pred_probab.argmax(1)\n",
    "print(f'Predicted class: {y_pred}')"
   ]
  },
  {
   "cell_type": "code",
   "execution_count": 10,
   "metadata": {},
   "outputs": [
    {
     "name": "stdout",
     "output_type": "stream",
     "text": [
      "tensor([[[0.0436, 0.5993, 0.9709,  ..., 0.3266, 0.9071, 0.7269],\n",
      "         [0.3657, 0.8568, 0.3252,  ..., 0.2520, 0.8001, 0.6722],\n",
      "         [0.8622, 0.0724, 0.9530,  ..., 0.7771, 0.8177, 0.6770],\n",
      "         ...,\n",
      "         [0.5521, 0.9809, 0.7461,  ..., 0.7385, 0.6298, 0.0640],\n",
      "         [0.8184, 0.5216, 0.6353,  ..., 0.8064, 0.9803, 0.6261],\n",
      "         [0.7694, 0.9395, 0.8859,  ..., 0.8938, 0.1231, 0.6096]],\n",
      "\n",
      "        [[0.1835, 0.6387, 0.3913,  ..., 0.0134, 0.1164, 0.8134],\n",
      "         [0.8036, 0.4733, 0.1200,  ..., 0.0372, 0.3225, 0.0781],\n",
      "         [0.8932, 0.1416, 0.5404,  ..., 0.9910, 0.1004, 0.1376],\n",
      "         ...,\n",
      "         [0.6012, 0.8455, 0.3162,  ..., 0.9162, 0.9572, 0.8898],\n",
      "         [0.1048, 0.1021, 0.9770,  ..., 0.0452, 0.6355, 0.8164],\n",
      "         [0.7217, 0.7310, 0.8383,  ..., 0.8126, 0.6501, 0.2249]],\n",
      "\n",
      "        [[0.3677, 0.8471, 0.7433,  ..., 0.5982, 0.4485, 0.2796],\n",
      "         [0.1205, 0.1173, 0.9664,  ..., 0.1094, 0.9274, 0.1865],\n",
      "         [0.4675, 0.3483, 0.8027,  ..., 0.5601, 0.9174, 0.4764],\n",
      "         ...,\n",
      "         [0.5442, 0.6223, 0.2934,  ..., 0.3725, 0.2516, 0.4513],\n",
      "         [0.8287, 0.5220, 0.0991,  ..., 0.9424, 0.2043, 0.2668],\n",
      "         [0.4781, 0.2802, 0.0461,  ..., 0.6882, 0.2352, 0.7731]]])\n"
     ]
    }
   ],
   "source": [
    "input_image = torch.rand(3, 28, 28)\n",
    "print(input_image)"
   ]
  },
  {
   "cell_type": "code",
   "execution_count": 11,
   "metadata": {},
   "outputs": [
    {
     "name": "stdout",
     "output_type": "stream",
     "text": [
      "torch.Size([3, 784])\n"
     ]
    }
   ],
   "source": [
    "flatten = nn.Flatten()\n",
    "flat_image = flatten(input_image)\n",
    "print(flat_image.size())"
   ]
  },
  {
   "cell_type": "code",
   "execution_count": 12,
   "metadata": {},
   "outputs": [
    {
     "name": "stdout",
     "output_type": "stream",
     "text": [
      "torch.Size([3, 20])\n"
     ]
    }
   ],
   "source": [
    "layer1 = nn.Linear(in_features=28 * 28, out_features=20)\n",
    "hidden1 = layer1(flat_image)\n",
    "print(hidden1.size())"
   ]
  },
  {
   "cell_type": "code",
   "execution_count": 13,
   "metadata": {},
   "outputs": [
    {
     "name": "stdout",
     "output_type": "stream",
     "text": [
      "Before ReLU: tensor([[ 0.0199, -0.4441, -0.0498, -0.0816,  0.2960,  0.5963,  0.2349, -0.0016,\n",
      "         -0.0313, -0.1073, -0.0041, -0.6117,  0.1677,  0.1700,  0.1472,  0.1582,\n",
      "          0.0380, -0.2044, -0.7704,  0.0208],\n",
      "        [-0.0198, -0.6509, -0.1629, -0.2935,  0.2793,  0.2847,  0.1448, -0.1801,\n",
      "          0.1436, -0.1255, -0.2712, -0.5783,  0.1884,  0.2422,  0.2382,  0.2403,\n",
      "         -0.4527, -0.3748, -0.1755, -0.0629],\n",
      "        [ 0.3111, -0.3335,  0.0283, -0.2328,  0.2180,  0.2552,  0.1493, -0.5543,\n",
      "         -0.0991, -0.1948, -0.1090, -0.5378,  0.0039,  0.1547,  0.1791,  0.1084,\n",
      "         -0.1567, -0.3375, -0.3306,  0.0365]], grad_fn=<AddmmBackward0>)\n",
      "\n",
      "\n",
      "After ReLU: tensor([[0.0199, 0.0000, 0.0000, 0.0000, 0.2960, 0.5963, 0.2349, 0.0000, 0.0000,\n",
      "         0.0000, 0.0000, 0.0000, 0.1677, 0.1700, 0.1472, 0.1582, 0.0380, 0.0000,\n",
      "         0.0000, 0.0208],\n",
      "        [0.0000, 0.0000, 0.0000, 0.0000, 0.2793, 0.2847, 0.1448, 0.0000, 0.1436,\n",
      "         0.0000, 0.0000, 0.0000, 0.1884, 0.2422, 0.2382, 0.2403, 0.0000, 0.0000,\n",
      "         0.0000, 0.0000],\n",
      "        [0.3111, 0.0000, 0.0283, 0.0000, 0.2180, 0.2552, 0.1493, 0.0000, 0.0000,\n",
      "         0.0000, 0.0000, 0.0000, 0.0039, 0.1547, 0.1791, 0.1084, 0.0000, 0.0000,\n",
      "         0.0000, 0.0365]], grad_fn=<ReluBackward0>)\n"
     ]
    }
   ],
   "source": [
    "print(f'Before ReLU: {hidden1}\\n\\n')\n",
    "hidden1 = nn.ReLU()(hidden1)\n",
    "print(f'After ReLU: {hidden1}')"
   ]
  },
  {
   "cell_type": "code",
   "execution_count": 14,
   "metadata": {},
   "outputs": [],
   "source": [
    "seq_modules = nn.Sequential(\n",
    "    flatten,\n",
    "    layer1,\n",
    "    nn.ReLU(),\n",
    "    nn.Linear(20, 10)\n",
    ")\n",
    "input_image = torch.rand(3, 28, 28)\n",
    "logits = seq_modules(input_image)"
   ]
  },
  {
   "cell_type": "code",
   "execution_count": 15,
   "metadata": {},
   "outputs": [],
   "source": [
    "softmax = nn.Softmax(dim=1)\n",
    "pred_probab = softmax(logits)"
   ]
  },
  {
   "cell_type": "code",
   "execution_count": 22,
   "metadata": {},
   "outputs": [
    {
     "name": "stdout",
     "output_type": "stream",
     "text": [
      "Model structure: NeuralNetwork(\n",
      "  (flatten): Flatten(start_dim=1, end_dim=-1)\n",
      "  (linear_relu_stack): Sequential(\n",
      "    (0): Linear(in_features=784, out_features=512, bias=True)\n",
      "    (1): ReLU()\n",
      "    (2): Linear(in_features=512, out_features=512, bias=True)\n",
      "    (3): ReLU()\n",
      "    (4): Linear(in_features=512, out_features=10, bias=True)\n",
      "  )\n",
      ")\n",
      "\n",
      "\n",
      "Layer: linear_relu_stack.0.weight | Size: torch.Size([512, 784]) | Values: tensor([[ 0.0189, -0.0336,  0.0173,  ...,  0.0257, -0.0056,  0.0046],\n",
      "        [-0.0063, -0.0057, -0.0176,  ...,  0.0104, -0.0213,  0.0341]],\n",
      "       device='cuda:0', grad_fn=<SliceBackward0>) \n",
      "\n",
      "Layer: linear_relu_stack.0.bias | Size: torch.Size([512]) | Values: tensor([-0.0267, -0.0045], device='cuda:0', grad_fn=<SliceBackward0>) \n",
      "\n",
      "Layer: linear_relu_stack.2.weight | Size: torch.Size([512, 512]) | Values: tensor([[-0.0032,  0.0313,  0.0362,  ..., -0.0159,  0.0052,  0.0373],\n",
      "        [-0.0236, -0.0116,  0.0253,  ..., -0.0116, -0.0414, -0.0333]],\n",
      "       device='cuda:0', grad_fn=<SliceBackward0>) \n",
      "\n",
      "Layer: linear_relu_stack.2.bias | Size: torch.Size([512]) | Values: tensor([ 0.0412, -0.0396], device='cuda:0', grad_fn=<SliceBackward0>) \n",
      "\n",
      "Layer: linear_relu_stack.4.weight | Size: torch.Size([10, 512]) | Values: tensor([[ 0.0233, -0.0256,  0.0173,  ..., -0.0114, -0.0065, -0.0344],\n",
      "        [ 0.0441,  0.0218, -0.0046,  ...,  0.0262,  0.0256,  0.0325]],\n",
      "       device='cuda:0', grad_fn=<SliceBackward0>) \n",
      "\n",
      "Layer: linear_relu_stack.4.bias | Size: torch.Size([10]) | Values: tensor([-0.0067, -0.0130], device='cuda:0', grad_fn=<SliceBackward0>) \n",
      "\n"
     ]
    }
   ],
   "source": [
    "print(f'Model structure: {model}\\n\\n')\n",
    "\n",
    "for name, param in model.named_parameters():\n",
    "    print(f'Layer: {name} | Size: {param.size()} | Values: {param[:2]} \\n')"
   ]
  }
 ],
 "metadata": {
  "kernelspec": {
   "display_name": "pytrochLearn",
   "language": "python",
   "name": "python3"
  },
  "language_info": {
   "codemirror_mode": {
    "name": "ipython",
    "version": 3
   },
   "file_extension": ".py",
   "mimetype": "text/x-python",
   "name": "python",
   "nbconvert_exporter": "python",
   "pygments_lexer": "ipython3",
   "version": "3.12.3"
  }
 },
 "nbformat": 4,
 "nbformat_minor": 2
}
